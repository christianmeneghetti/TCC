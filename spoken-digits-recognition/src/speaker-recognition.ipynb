{
 "cells": [
  {
   "cell_type": "markdown",
   "metadata": {},
   "source": [
    "# Reconhecimento de locutor por redes neurais (Machine Learning)\n",
    "\n",
    "Este projeto foi desenvolvido com o intuito de, através do aprendizado de maquina, reconhecer o locutor(detentor da feature de voz) utilizando o dataset previeamente usado no reconhecimento de digitos. \n",
    "\n",
    "Abaixo, é possível executar o código através das celulás de codigo do Jupyter Notebook, facilitando a visualização da aplicação como um todo.\n",
    "\n",
    "Informações de audio:   \n",
    "\n",
    "                        - Chroma stft\n",
    "                        - Rmse\n",
    "                        - Spectral Centroid\n",
    "                        - Spectral Bandwidth\n",
    "                        - Spectral RollOff\n",
    "                        - Zero Crossing Rate\n",
    "                        - Mfcc\n",
    "\n",
    "Este bloco de código está dividido em 3 seções:\n",
    "1. Extração de todas as informação dos arquivos de audio e salva-las em um arquivo CSV para leitura posterior.\n",
    "2. Treinamento do dataset recolhido de quatro participantes."
   ]
  },
  {
   "cell_type": "markdown",
   "metadata": {},
   "source": [
    "## Seção 1\n",
    "\n",
    "Nesta seção obteremos o resultado dos arquivos em csv para a utilização na modeladação da rede neural.\n",
    "\n",
    "```\n",
    "trainData     : ../data/recordings/train \n",
    "testData      : ../data/recordings/test\n",
    "```\n"
   ]
  },
  {
   "cell_type": "code",
   "execution_count": 9,
   "metadata": {},
   "outputs": [],
   "source": [
    "# Quando verdadeiro, os arquivos de audio serão lidos e suas informações serão armazenadas em um arquivo CSV\n",
    "CREATE_CSV_FILES = True"
   ]
  },
  {
   "cell_type": "code",
   "execution_count": 10,
   "metadata": {},
   "outputs": [],
   "source": [
    "# Definindo os nomes dos arquivos de CSV\n",
    "TRAIN_CSV_FILE = \"train.csv\"\n",
    "TEST_CSV_FILE = \"test.csv\"\n",
    "# MORE_TRAIN_CSV_FILE = \"more_train.csv\"\n",
    "# MORE_TEST_CSV_FILE = \"more_test.csv\"\n"
   ]
  },
  {
   "cell_type": "code",
   "execution_count": 13,
   "metadata": {
    "colab": {
     "base_uri": "https://localhost:8080/",
     "height": 71
    },
    "colab_type": "code",
    "id": "FIUhv3GI8FOF",
    "outputId": "5adb2545-0d54-4494-c1bb-6fbb9f69ed45"
   },
   "outputs": [
    {
     "ename": "ModuleNotFoundError",
     "evalue": "No module named 'matplotlib'",
     "output_type": "error",
     "traceback": [
      "\u001b[1;31m---------------------------------------------------------------------------\u001b[0m",
      "\u001b[1;31mModuleNotFoundError\u001b[0m                       Traceback (most recent call last)",
      "Cell \u001b[1;32mIn [13], line 1\u001b[0m\n\u001b[1;32m----> 1\u001b[0m \u001b[39mimport\u001b[39;00m \u001b[39mmatplotlib\u001b[39;00m\u001b[39m.\u001b[39;00m\u001b[39mpyplot\u001b[39;00m \u001b[39mas\u001b[39;00m \u001b[39mplt\u001b[39;00m\n\u001b[0;32m      2\u001b[0m \u001b[39mimport\u001b[39;00m \u001b[39mnumpy\u001b[39;00m \u001b[39mas\u001b[39;00m \u001b[39mnp\u001b[39;00m\n\u001b[0;32m      3\u001b[0m \u001b[39mfrom\u001b[39;00m \u001b[39mmatplotlib\u001b[39;00m \u001b[39mimport\u001b[39;00m cm\n",
      "\u001b[1;31mModuleNotFoundError\u001b[0m: No module named 'matplotlib'"
     ]
    }
   ],
   "source": [
    "import matplotlib.pyplot as plt\n",
    "import numpy as np\n",
    "from matplotlib import cm\n",
    "import librosa\n",
    "import csv\n",
    "import os\n",
    "\n",
    "def extractWavFeatures(soundFilesFolder, csvFileName):\n",
    "    print(\"As informações dos arquivos de audio da pasta \"+soundFilesFolder+\" serão salvas no arquivo \"+csvFileName)\n",
    "    header = 'filename chroma_stft rmse spectral_centroid spectral_bandwidth rolloff zero_crossing_rate'\n",
    "    for i in range(1, 21):\n",
    "        header += f' mfcc{i}'\n",
    "    header += ' label'\n",
    "    header = header.split()\n",
    "    print('Cabeçalho do CSV: ', header)\n",
    "    file = open(csvFileName, 'w', newline='')\n",
    "    writer = csv.writer(file)\n",
    "    writer.writerow(header)\n",
    "    genres = '1 2 3 4 5 6 7 8 9 0'.split()\n",
    "    for filename in os.listdir(soundFilesFolder):\n",
    "        number = f'{soundFilesFolder}/{filename}'\n",
    "        y, sr = librosa.load(number, mono=True, duration=30)\n",
    "        # remove leading and trailing silence\n",
    "        y, index = librosa.effects.trim(y)\n",
    "        chroma_stft = librosa.feature.chroma_stft(y=y, sr=sr)\n",
    "        rmse = librosa.feature.rms(y=y)\n",
    "        spec_cent = librosa.feature.spectral_centroid(y=y, sr=sr)\n",
    "        spec_bw = librosa.feature.spectral_bandwidth(y=y, sr=sr)\n",
    "        rolloff = librosa.feature.spectral_rolloff(y=y, sr=sr)\n",
    "        zcr = librosa.feature.zero_crossing_rate(y)\n",
    "        mfcc = librosa.feature.mfcc(y=y, sr=sr)\n",
    "        to_append = f'{filename} {np.mean(chroma_stft)} {np.mean(rmse)} {np.mean(spec_cent)} {np.mean(spec_bw)} {np.mean(rolloff)} {np.mean(zcr)}'\n",
    "        for e in mfcc:\n",
    "            to_append += f' {np.mean(e)}'\n",
    "        writer.writerow(to_append.split())\n",
    "    file.close()\n",
    "    print(\"Fim da função de extração de dados\")\n",
    "\n",
    "if (CREATE_CSV_FILES == True):\n",
    "    extractWavFeatures(\"../data/recordings/train\", TRAIN_CSV_FILE)\n",
    "    extractWavFeatures(\"../data/recordings/test\", TEST_CSV_FILE)\n",
    "    # extractWavFeatures(\"../data/recordings/moreSpeakersTrain\", MORE_TRAIN_CSV_FILE)\n",
    "    # extractWavFeatures(\"../data/recordings/moreSpeakersTest\", MORE_TEST_CSV_FILE)\n",
    "    print(\"Os arquivos de CSV foram criados\")\n",
    "else:\n",
    "    print(\"A criação dos arquivos foram puladas\")"
   ]
  },
  {
   "cell_type": "code",
   "execution_count": 8,
   "metadata": {
    "colab": {
     "base_uri": "https://localhost:8080/",
     "height": 223
    },
    "colab_type": "code",
    "id": "_TZXrWYiNqCj",
    "outputId": "7d1d926e-64fa-4855-df66-207a97778915"
   },
   "outputs": [
    {
     "ename": "ModuleNotFoundError",
     "evalue": "No module named 'pandas'",
     "output_type": "error",
     "traceback": [
      "\u001b[1;31m---------------------------------------------------------------------------\u001b[0m",
      "\u001b[1;31mModuleNotFoundError\u001b[0m                       Traceback (most recent call last)",
      "Cell \u001b[1;32mIn [8], line 3\u001b[0m\n\u001b[0;32m      1\u001b[0m \u001b[39m#Lendo o dataset e convertendo o as informaçoes em seus respectivos numeros\u001b[39;00m\n\u001b[1;32m----> 3\u001b[0m \u001b[39mimport\u001b[39;00m \u001b[39mpandas\u001b[39;00m \u001b[39mas\u001b[39;00m \u001b[39mpd\u001b[39;00m\n\u001b[0;32m      4\u001b[0m \u001b[39mimport\u001b[39;00m \u001b[39mcsv\u001b[39;00m\n\u001b[0;32m      5\u001b[0m \u001b[39mfrom\u001b[39;00m \u001b[39msklearn\u001b[39;00m \u001b[39mimport\u001b[39;00m preprocessing\n",
      "\u001b[1;31mModuleNotFoundError\u001b[0m: No module named 'pandas'"
     ]
    }
   ],
   "source": [
    "#Lendo o dataset e convertendo o as informaçoes em seus respectivos numeros\n",
    "\n",
    "import pandas as pd\n",
    "import csv\n",
    "from sklearn import preprocessing\n",
    "\n",
    "def preProcessData(csvFileName):\n",
    "    print(csvFileName+ \" irá ser processado\")\n",
    "    data = pd.read_csv(csvFileName)\n",
    "    # Temos os quatro locutores abaixo: \n",
    "    # 0: Bianca\n",
    "    # 1: Christian \n",
    "    # 2: Paulo\n",
    "    # 3: Roseli\n",
    "    filenameArray = data['filename'] \n",
    "    \n",
    "    speakerArray = []\n",
    "    for i in range(len(filenameArray)):\n",
    "        speaker = filenameArray[i][2]\n",
    "        if speaker == \"b\":\n",
    "            speaker = \"0\"\n",
    "        elif speaker == \"c\":\n",
    "            speaker = \"1\"\n",
    "        elif speaker == \"p\":\n",
    "            speaker = \"2\"\n",
    "        elif speaker == \"r\":\n",
    "            speaker = \"3\"\n",
    "        speakerArray.append(speaker)\n",
    "    data['number'] = speakerArray\n",
    "    #Excluindo colunas desnecessárias\n",
    "    data = data.drop(['filename'],axis=1)\n",
    "    data = data.drop(['label'],axis=1)\n",
    "    data = data.drop(['chroma_stft'],axis=1)\n",
    "    data.shape\n",
    "\n",
    "    print(\"Pré processamento finalizado\")\n",
    "    return data\n",
    "\n",
    "trainData = preProcessData(TRAIN_CSV_FILE)\n",
    "testData = preProcessData(TEST_CSV_FILE)\n",
    "# moreTrainData = preProcessData(MORE_TRAIN_CSV_FILE)\n",
    "# moreTestData = preProcessData(MORE_TEST_CSV_FILE)\n"
   ]
  },
  {
   "cell_type": "markdown",
   "metadata": {},
   "source": [
    "## Seção 2\n",
    "\n",
    "Nesta seção será feito o treinamento da rede neural utilizando o dataset de treianmento previamente pré procesasdo.\n",
    "\n",
    "Ao todo serão utilizadas as 50 repetições de cada número dos quatro participantes, em um total de 2000 arquivos de som.\n",
    "Para o teste e validação do treinamento será utilizado 1 repetição de cada número dos quatro participantes, em um total de 40 arquivos de som.\n",
    "\n",
    "Os arquivos utilizados para o treinamento e teste são provindos dos seguintes diretórios:\n",
    "* ../data/recordings/train\n",
    "* ../data/recordings/test"
   ]
  },
  {
   "cell_type": "code",
   "execution_count": 8,
   "metadata": {
    "colab": {},
    "colab_type": "code",
    "id": "UEy6oG8RQmnN"
   },
   "outputs": [
    {
     "name": "stdout",
     "output_type": "stream",
     "text": [
      "Y do dataset(infomações) de treinamento: (1400,)\n",
      "Y do dataset(infomações) de validação: (600,)\n",
      "Y do dataset(infomações) de teste: (40,)\n"
     ]
    }
   ],
   "source": [
    "# Quebrando o dataset para o treinamento, validação e teste\n",
    "from sklearn.model_selection import train_test_split\n",
    "X = np.array(trainData.iloc[:, :-1], dtype = float)\n",
    "y = trainData.iloc[:, -1]\n",
    "X_train, X_val, y_train, y_val = train_test_split(X, y, test_size=0.3, random_state=42)\n",
    "\n",
    "X_test = np.array(testData.iloc[:, :-1], dtype = float)\n",
    "y_test = testData.iloc[:, -1]\n",
    "\n",
    "encoder = preprocessing.LabelEncoder()\n",
    "\n",
    "y_train = encoder.fit_transform(y_train)\n",
    "y_val = encoder.fit_transform(y_val)\n",
    "y_test = encoder.fit_transform(y_test)\n",
    "\n",
    "print(\"Y do dataset(infomações) de treinamento:\", y_train.shape)\n",
    "print(\"Y do dataset(infomações) de validação:\", y_val.shape)\n",
    "print(\"Y do dataset(infomações) de teste:\", y_test.shape)\n"
   ]
  },
  {
   "cell_type": "code",
   "execution_count": 9,
   "metadata": {
    "colab": {
     "base_uri": "https://localhost:8080/",
     "height": 34
    },
    "colab_type": "code",
    "id": "S1o-OccqP5Ax",
    "outputId": "c93e0d6f-f5c0-4208-b0e5-7ecba885cddc"
   },
   "outputs": [
    {
     "name": "stdout",
     "output_type": "stream",
     "text": [
      "X do dataset(infomações) de treinamento: (1400, 25)\n",
      "X do dataset(infomações) de validação: (600, 25)\n",
      "X do dataset(infomações) de teste: (40, 25)\n"
     ]
    }
   ],
   "source": [
    "# Normalizando o dataset\n",
    "from sklearn.preprocessing import StandardScaler\n",
    "import numpy as np\n",
    "scaler = StandardScaler()\n",
    "X_train = scaler.fit_transform( X_train )\n",
    "X_val = scaler.transform( X_val )\n",
    "X_test = scaler.transform( X_test )\n",
    "\n",
    "print(\"X do dataset(infomações) de treinamento:\", X_train.shape)\n",
    "print(\"X do dataset(infomações) de validação:\", X_val.shape)\n",
    "print(\"X do dataset(infomações) de teste:\", X_test.shape)\n"
   ]
  },
  {
   "cell_type": "code",
   "execution_count": 10,
   "metadata": {
    "colab": {
     "base_uri": "https://localhost:8080/",
     "height": 203
    },
    "colab_type": "code",
    "id": "Q06tYXcdQZFp",
    "outputId": "8ab73b51-7592-450c-b152-8746e2f11b87"
   },
   "outputs": [
    {
     "name": "stdout",
     "output_type": "stream",
     "text": [
      "Epoch 1/50\n",
      "11/11 [==============================] - 1s 24ms/step - loss: 2.2663 - accuracy: 0.2186 - val_loss: 1.8390 - val_accuracy: 0.7617\n",
      "Epoch 2/50\n",
      "11/11 [==============================] - 0s 6ms/step - loss: 1.6428 - accuracy: 0.4979 - val_loss: 1.1479 - val_accuracy: 0.9083\n",
      "Epoch 3/50\n",
      "11/11 [==============================] - 0s 6ms/step - loss: 1.0688 - accuracy: 0.7014 - val_loss: 0.4921 - val_accuracy: 0.9467\n",
      "Epoch 4/50\n",
      "11/11 [==============================] - 0s 6ms/step - loss: 0.6566 - accuracy: 0.7907 - val_loss: 0.2233 - val_accuracy: 0.9617\n",
      "Epoch 5/50\n",
      "11/11 [==============================] - 0s 6ms/step - loss: 0.4605 - accuracy: 0.8557 - val_loss: 0.1460 - val_accuracy: 0.9700\n",
      "Epoch 6/50\n",
      "11/11 [==============================] - 0s 6ms/step - loss: 0.3083 - accuracy: 0.9071 - val_loss: 0.1098 - val_accuracy: 0.9783\n",
      "Epoch 7/50\n",
      "11/11 [==============================] - 0s 6ms/step - loss: 0.2324 - accuracy: 0.9314 - val_loss: 0.0923 - val_accuracy: 0.9833\n",
      "Epoch 8/50\n",
      "11/11 [==============================] - 0s 6ms/step - loss: 0.1816 - accuracy: 0.9564 - val_loss: 0.0772 - val_accuracy: 0.9833\n",
      "Epoch 9/50\n",
      "11/11 [==============================] - 0s 6ms/step - loss: 0.1534 - accuracy: 0.9636 - val_loss: 0.0612 - val_accuracy: 0.9833\n",
      "Epoch 10/50\n",
      "11/11 [==============================] - 0s 5ms/step - loss: 0.1392 - accuracy: 0.9657 - val_loss: 0.0480 - val_accuracy: 0.9900\n",
      "Epoch 11/50\n",
      "11/11 [==============================] - 0s 5ms/step - loss: 0.1245 - accuracy: 0.9671 - val_loss: 0.0440 - val_accuracy: 0.9900\n",
      "Epoch 12/50\n",
      "11/11 [==============================] - 0s 6ms/step - loss: 0.1005 - accuracy: 0.9736 - val_loss: 0.0391 - val_accuracy: 0.9900\n",
      "Epoch 13/50\n",
      "11/11 [==============================] - 0s 5ms/step - loss: 0.0948 - accuracy: 0.9729 - val_loss: 0.0355 - val_accuracy: 0.9867\n",
      "Epoch 14/50\n",
      "11/11 [==============================] - 0s 5ms/step - loss: 0.0884 - accuracy: 0.9771 - val_loss: 0.0250 - val_accuracy: 0.9900\n",
      "Epoch 15/50\n",
      "11/11 [==============================] - 0s 6ms/step - loss: 0.0725 - accuracy: 0.9807 - val_loss: 0.0207 - val_accuracy: 0.9950\n",
      "Epoch 16/50\n",
      "11/11 [==============================] - 0s 6ms/step - loss: 0.0775 - accuracy: 0.9843 - val_loss: 0.0190 - val_accuracy: 0.9967\n",
      "Epoch 17/50\n",
      "11/11 [==============================] - 0s 6ms/step - loss: 0.0615 - accuracy: 0.9800 - val_loss: 0.0171 - val_accuracy: 0.9967\n",
      "Epoch 18/50\n",
      "11/11 [==============================] - 0s 5ms/step - loss: 0.0742 - accuracy: 0.9814 - val_loss: 0.0154 - val_accuracy: 0.9950\n",
      "Epoch 19/50\n",
      "11/11 [==============================] - 0s 7ms/step - loss: 0.0726 - accuracy: 0.9821 - val_loss: 0.0138 - val_accuracy: 0.9967\n",
      "Epoch 20/50\n",
      "11/11 [==============================] - 0s 6ms/step - loss: 0.0544 - accuracy: 0.9864 - val_loss: 0.0141 - val_accuracy: 0.9950\n",
      "Epoch 21/50\n",
      "11/11 [==============================] - 0s 8ms/step - loss: 0.0407 - accuracy: 0.9893 - val_loss: 0.0132 - val_accuracy: 0.9967\n",
      "Epoch 22/50\n",
      "11/11 [==============================] - 0s 6ms/step - loss: 0.0515 - accuracy: 0.9879 - val_loss: 0.0122 - val_accuracy: 0.9967\n",
      "Epoch 23/50\n",
      "11/11 [==============================] - 0s 5ms/step - loss: 0.0480 - accuracy: 0.9857 - val_loss: 0.0126 - val_accuracy: 0.9917\n",
      "Epoch 24/50\n",
      "11/11 [==============================] - 0s 5ms/step - loss: 0.0483 - accuracy: 0.9879 - val_loss: 0.0126 - val_accuracy: 0.9950\n",
      "Epoch 25/50\n",
      "11/11 [==============================] - 0s 6ms/step - loss: 0.0392 - accuracy: 0.9864 - val_loss: 0.0131 - val_accuracy: 0.9950\n",
      "Epoch 26/50\n",
      "11/11 [==============================] - 0s 5ms/step - loss: 0.0465 - accuracy: 0.9857 - val_loss: 0.0129 - val_accuracy: 0.9950\n",
      "Epoch 27/50\n",
      "11/11 [==============================] - 0s 5ms/step - loss: 0.0327 - accuracy: 0.9893 - val_loss: 0.0107 - val_accuracy: 0.9967\n",
      "Epoch 28/50\n",
      "11/11 [==============================] - 0s 6ms/step - loss: 0.0381 - accuracy: 0.9879 - val_loss: 0.0084 - val_accuracy: 0.9967\n",
      "Epoch 29/50\n",
      "11/11 [==============================] - 0s 6ms/step - loss: 0.0322 - accuracy: 0.9914 - val_loss: 0.0091 - val_accuracy: 0.9967\n",
      "Epoch 30/50\n",
      "11/11 [==============================] - 0s 5ms/step - loss: 0.0240 - accuracy: 0.9936 - val_loss: 0.0097 - val_accuracy: 0.9983\n",
      "Epoch 31/50\n",
      "11/11 [==============================] - 0s 5ms/step - loss: 0.0184 - accuracy: 0.9929 - val_loss: 0.0097 - val_accuracy: 0.9967\n",
      "Epoch 32/50\n",
      "11/11 [==============================] - 0s 6ms/step - loss: 0.0229 - accuracy: 0.9936 - val_loss: 0.0098 - val_accuracy: 0.9967\n",
      "Epoch 33/50\n",
      "11/11 [==============================] - 0s 5ms/step - loss: 0.0216 - accuracy: 0.9929 - val_loss: 0.0105 - val_accuracy: 0.9983\n",
      "Epoch 34/50\n",
      "11/11 [==============================] - 0s 5ms/step - loss: 0.0188 - accuracy: 0.9943 - val_loss: 0.0112 - val_accuracy: 0.9983\n",
      "Epoch 35/50\n",
      "11/11 [==============================] - 0s 5ms/step - loss: 0.0295 - accuracy: 0.9921 - val_loss: 0.0119 - val_accuracy: 0.9983\n",
      "Epoch 36/50\n",
      "11/11 [==============================] - 0s 5ms/step - loss: 0.0132 - accuracy: 0.9971 - val_loss: 0.0137 - val_accuracy: 0.9950\n",
      "Epoch 37/50\n",
      "11/11 [==============================] - 0s 5ms/step - loss: 0.0262 - accuracy: 0.9929 - val_loss: 0.0146 - val_accuracy: 0.9950\n",
      "Epoch 38/50\n",
      "11/11 [==============================] - 0s 6ms/step - loss: 0.0280 - accuracy: 0.9921 - val_loss: 0.0170 - val_accuracy: 0.9950\n",
      "Epoch 39/50\n",
      "11/11 [==============================] - 0s 5ms/step - loss: 0.0360 - accuracy: 0.9936 - val_loss: 0.0145 - val_accuracy: 0.9933\n",
      "Epoch 40/50\n",
      "11/11 [==============================] - 0s 5ms/step - loss: 0.0306 - accuracy: 0.9929 - val_loss: 0.0129 - val_accuracy: 0.9967\n",
      "Epoch 41/50\n",
      "11/11 [==============================] - 0s 5ms/step - loss: 0.0190 - accuracy: 0.9950 - val_loss: 0.0129 - val_accuracy: 0.9950\n",
      "Epoch 42/50\n",
      "11/11 [==============================] - 0s 5ms/step - loss: 0.0157 - accuracy: 0.9950 - val_loss: 0.0145 - val_accuracy: 0.9933\n",
      "Epoch 43/50\n",
      "11/11 [==============================] - 0s 6ms/step - loss: 0.0130 - accuracy: 0.9957 - val_loss: 0.0148 - val_accuracy: 0.9933\n",
      "Epoch 44/50\n",
      "11/11 [==============================] - 0s 5ms/step - loss: 0.0105 - accuracy: 0.9979 - val_loss: 0.0160 - val_accuracy: 0.9933\n",
      "Epoch 45/50\n",
      "11/11 [==============================] - 0s 6ms/step - loss: 0.0167 - accuracy: 0.9950 - val_loss: 0.0168 - val_accuracy: 0.9933\n",
      "Epoch 46/50\n",
      "11/11 [==============================] - 0s 6ms/step - loss: 0.0155 - accuracy: 0.9950 - val_loss: 0.0165 - val_accuracy: 0.9933\n",
      "Epoch 47/50\n",
      "11/11 [==============================] - 0s 5ms/step - loss: 0.0185 - accuracy: 0.9964 - val_loss: 0.0149 - val_accuracy: 0.9933\n",
      "Epoch 48/50\n",
      "11/11 [==============================] - 0s 5ms/step - loss: 0.0211 - accuracy: 0.9921 - val_loss: 0.0137 - val_accuracy: 0.9950\n",
      "Epoch 49/50\n",
      "11/11 [==============================] - 0s 5ms/step - loss: 0.0133 - accuracy: 0.9964 - val_loss: 0.0135 - val_accuracy: 0.9950\n",
      "Epoch 50/50\n",
      "11/11 [==============================] - 0s 6ms/step - loss: 0.0204 - accuracy: 0.9936 - val_loss: 0.0139 - val_accuracy: 0.9950\n"
     ]
    }
   ],
   "source": [
    "# Criação do modelo de rede neural\n",
    "from keras import models\n",
    "from keras import layers\n",
    "import keras\n",
    "\n",
    "# Modelo 1\n",
    "model = models.Sequential()\n",
    "model.add(layers.Dense(256, activation='relu', input_shape=(X_train.shape[1],)))\n",
    "model.add(layers.Dropout(0.5))\n",
    "model.add(layers.Dense(128, activation='relu'))\n",
    "model.add(layers.Dropout(0.5))\n",
    "model.add(layers.Dense(64, activation='relu'))\n",
    "model.add(layers.Dropout(0.5))\n",
    "model.add(layers.Dense(10, activation='softmax'))\n",
    "\n",
    "# Processo de aprendizagem do modelo\n",
    "model.compile(optimizer='adam',\n",
    "              loss='sparse_categorical_crossentropy',\n",
    "              metrics=['accuracy'])\n",
    "\n",
    "# Treinamento do modelo com 50 epocas e com um batch(lote) de 128\n",
    "history = model.fit(X_train,\n",
    "                    y_train,\n",
    "                    validation_data=(X_val, y_val),\n",
    "                    epochs=50,\n",
    "                    batch_size=128)"
   ]
  },
  {
   "cell_type": "code",
   "execution_count": 11,
   "metadata": {
    "colab": {
     "base_uri": "https://localhost:8080/",
     "height": 267
    },
    "colab_type": "code",
    "id": "z3nvtYKVa5HD",
    "outputId": "b858b37f-8e47-4cb4-a737-ef960246254b"
   },
   "outputs": [
    {
     "data": {
      "image/png": "[encoded data removed]",
      "text/plain": [
       "<Figure size 640x480 with 1 Axes>"
      ]
     },
     "metadata": {},
     "output_type": "display_data"
    }
   ],
   "source": [
    "# Gráfico do histórico de treinamento\n",
    "from matplotlib import pyplot\n",
    "pyplot.plot(history.history['loss'], label='Treinamento')\n",
    "pyplot.plot(history.history['val_loss'], label='Teste')\n",
    "pyplot.legend()\n",
    "pyplot.show()"
   ]
  },
  {
   "cell_type": "markdown",
   "metadata": {},
   "source": [
    "### Auxiliary functions to show the results\n"
   ]
  },
  {
   "cell_type": "code",
   "execution_count": 12,
   "metadata": {},
   "outputs": [],
   "source": [
    "def getSpeaker(speaker):\n",
    "    speaker = str(speaker)\n",
    "    if speaker == \"0\":\n",
    "        return \"Bianca\"\n",
    "    elif speaker == \"1\":\n",
    "        return \"Christian\"\n",
    "    elif speaker == \"2\":\n",
    "        return \"Paulo\"\n",
    "    elif speaker == \"3\":\n",
    "        return \"Roseli\"\n",
    "    else: \n",
    "        speaker = \"Desconhecido\"\n",
    "        \n",
    "def printPrediction(X_data, y_data, printDigit):\n",
    "    print('\\n# Predições')\n",
    "    for i in range(len(y_data)):\n",
    "        prediction = getSpeaker(np.argmax(model.predict(X_data[i:i+1])[0], axis=-1))\n",
    "        speaker = getSpeaker(y_data[i])\n",
    "        if printDigit == True:\n",
    "            print(\"Numero={0:d}, y={1:10s}- predição={2:10s}- equivalencia={3}\".format(i, speaker, prediction, speaker==prediction))\n",
    "        else:\n",
    "            print(\"y={0:10s}- predição={1:10s}- equivalencia={2}\".format(speaker, prediction, speaker==prediction))"
   ]
  },
  {
   "cell_type": "code",
   "execution_count": 13,
   "metadata": {},
   "outputs": [],
   "source": [
    "import numpy as np\n",
    "from keras import backend as K\n",
    "from keras.models import Sequential\n",
    "from keras.layers.core import Dense, Dropout, Activation, Flatten\n",
    "from keras.layers.convolutional import Convolution2D, MaxPooling2D\n",
    "from keras.preprocessing.image import ImageDataGenerator\n",
    "from sklearn.metrics import classification_report, confusion_matrix\n",
    "\n",
    "def report(X_data, y_data):\n",
    "    # Matriz de confusão e Classificação\n",
    "    Y_pred = np.argmax(model.predict(X_data), axis=-1)\n",
    "    print(Y_pred)\n",
    "    y_test_num = y_data.astype(np.int64)\n",
    "    print(y_test_num)\n",
    "    conf_mt = confusion_matrix(y_test_num, Y_pred)\n",
    "    print(conf_mt)\n",
    "    plt.matshow(conf_mt)\n",
    "    plt.show()\n",
    "    print('\\nClassificação')\n",
    "    target_names = [\"Bianca\", \"Christian\", \"Paulo\", \"Roseli\"]\n",
    "    print(classification_report(y_test_num, Y_pred))\n"
   ]
  },
  {
   "cell_type": "markdown",
   "metadata": {},
   "source": [
    "### Apresentando a performance do modelo"
   ]
  },
  {
   "cell_type": "code",
   "execution_count": 17,
   "metadata": {
    "colab": {
     "base_uri": "https://localhost:8080/",
     "height": 86
    },
    "colab_type": "code",
    "id": "HSVxu84pRgZa",
    "outputId": "eb9242c9-7bff-4d54-a58c-60a915aad7d2"
   },
   "outputs": [
    {
     "name": "stdout",
     "output_type": "stream",
     "text": [
      "\n",
      "# DADOS TESTADOS #\n",
      "\n",
      "2/2 [==============================] - 0s 3ms/step - loss: 0.0129 - accuracy: 1.0000\n",
      "accuracy: 100.00%\n",
      "\n",
      "# Predições\n",
      "1/1 [==============================] - 0s 19ms/step\n",
      "Numero=0, y=Bianca    - predição=Bianca    - equivalencia=True\n",
      "1/1 [==============================] - 0s 19ms/step\n",
      "Numero=1, y=Christian - predição=Christian - equivalencia=True\n",
      "1/1 [==============================] - 0s 18ms/step\n",
      "Numero=2, y=Paulo     - predição=Paulo     - equivalencia=True\n",
      "1/1 [==============================] - 0s 18ms/step\n",
      "Numero=3, y=Roseli    - predição=Roseli    - equivalencia=True\n",
      "1/1 [==============================] - 0s 18ms/step\n",
      "Numero=4, y=Bianca    - predição=Bianca    - equivalencia=True\n",
      "1/1 [==============================] - 0s 19ms/step\n",
      "Numero=5, y=Christian - predição=Christian - equivalencia=True\n",
      "1/1 [==============================] - 0s 18ms/step\n",
      "Numero=6, y=Paulo     - predição=Paulo     - equivalencia=True\n",
      "1/1 [==============================] - 0s 20ms/step\n",
      "Numero=7, y=Roseli    - predição=Roseli    - equivalencia=True\n",
      "1/1 [==============================] - 0s 20ms/step\n",
      "Numero=8, y=Bianca    - predição=Bianca    - equivalencia=True\n",
      "1/1 [==============================] - 0s 18ms/step\n",
      "Numero=9, y=Christian - predição=Christian - equivalencia=True\n",
      "1/1 [==============================] - 0s 20ms/step\n",
      "Numero=10, y=Paulo     - predição=Paulo     - equivalencia=True\n",
      "1/1 [==============================] - 0s 19ms/step\n",
      "Numero=11, y=Roseli    - predição=Roseli    - equivalencia=True\n",
      "1/1 [==============================] - 0s 19ms/step\n",
      "Numero=12, y=Bianca    - predição=Bianca    - equivalencia=True\n",
      "1/1 [==============================] - 0s 18ms/step\n",
      "Numero=13, y=Christian - predição=Christian - equivalencia=True\n",
      "1/1 [==============================] - 0s 19ms/step\n",
      "Numero=14, y=Paulo     - predição=Paulo     - equivalencia=True\n",
      "1/1 [==============================] - 0s 19ms/step\n",
      "Numero=15, y=Roseli    - predição=Roseli    - equivalencia=True\n",
      "1/1 [==============================] - 0s 21ms/step\n",
      "Numero=16, y=Bianca    - predição=Bianca    - equivalencia=True\n",
      "1/1 [==============================] - 0s 21ms/step\n",
      "Numero=17, y=Christian - predição=Christian - equivalencia=True\n",
      "1/1 [==============================] - 0s 21ms/step\n",
      "Numero=18, y=Paulo     - predição=Paulo     - equivalencia=True\n",
      "1/1 [==============================] - 0s 19ms/step\n",
      "Numero=19, y=Roseli    - predição=Roseli    - equivalencia=True\n",
      "1/1 [==============================] - 0s 19ms/step\n",
      "Numero=20, y=Bianca    - predição=Bianca    - equivalencia=True\n",
      "1/1 [==============================] - 0s 20ms/step\n",
      "Numero=21, y=Christian - predição=Christian - equivalencia=True\n",
      "1/1 [==============================] - 0s 19ms/step\n",
      "Numero=22, y=Paulo     - predição=Paulo     - equivalencia=True\n",
      "1/1 [==============================] - 0s 21ms/step\n",
      "Numero=23, y=Roseli    - predição=Roseli    - equivalencia=True\n",
      "1/1 [==============================] - 0s 20ms/step\n",
      "Numero=24, y=Bianca    - predição=Bianca    - equivalencia=True\n",
      "1/1 [==============================] - 0s 20ms/step\n",
      "Numero=25, y=Christian - predição=Christian - equivalencia=True\n",
      "1/1 [==============================] - 0s 18ms/step\n",
      "Numero=26, y=Paulo     - predição=Paulo     - equivalencia=True\n",
      "1/1 [==============================] - 0s 18ms/step\n",
      "Numero=27, y=Roseli    - predição=Roseli    - equivalencia=True\n",
      "1/1 [==============================] - 0s 18ms/step\n",
      "Numero=28, y=Bianca    - predição=Bianca    - equivalencia=True\n",
      "1/1 [==============================] - 0s 18ms/step\n",
      "Numero=29, y=Christian - predição=Christian - equivalencia=True\n",
      "1/1 [==============================] - 0s 18ms/step\n",
      "Numero=30, y=Paulo     - predição=Paulo     - equivalencia=True\n",
      "1/1 [==============================] - 0s 19ms/step\n",
      "Numero=31, y=Roseli    - predição=Roseli    - equivalencia=True\n",
      "1/1 [==============================] - 0s 19ms/step\n",
      "Numero=32, y=Bianca    - predição=Bianca    - equivalencia=True\n",
      "1/1 [==============================] - 0s 20ms/step\n",
      "Numero=33, y=Christian - predição=Christian - equivalencia=True\n",
      "1/1 [==============================] - 0s 18ms/step\n",
      "Numero=34, y=Paulo     - predição=Paulo     - equivalencia=True\n",
      "1/1 [==============================] - 0s 18ms/step\n",
      "Numero=35, y=Roseli    - predição=Roseli    - equivalencia=True\n",
      "1/1 [==============================] - 0s 19ms/step\n",
      "Numero=36, y=Bianca    - predição=Bianca    - equivalencia=True\n",
      "1/1 [==============================] - 0s 32ms/step\n",
      "Numero=37, y=Christian - predição=Christian - equivalencia=True\n",
      "1/1 [==============================] - 0s 97ms/step\n",
      "Numero=38, y=Paulo     - predição=Paulo     - equivalencia=True\n",
      "1/1 [==============================] - 0s 23ms/step\n",
      "Numero=39, y=Roseli    - predição=Roseli    - equivalencia=True\n"
     ]
    }
   ],
   "source": [
    "print('\\n# DADOS TESTADOS #\\n')\n",
    "score = model.evaluate(X_test, y_test)\n",
    "print(\"%s: %.2f%%\" % (model.metrics_names[1], score[1]*100))\n",
    "\n",
    "# Predição\n",
    "printPrediction(X_test[:], y_test[:], True)"
   ]
  },
  {
   "cell_type": "code",
   "execution_count": 15,
   "metadata": {},
   "outputs": [
    {
     "name": "stdout",
     "output_type": "stream",
     "text": [
      "Classifição dos dados testados\n",
      "\n",
      "2/2 [==============================] - 0s 2ms/step\n",
      "[0 1 2 3 0 1 2 3 0 1 2 3 0 1 2 3 0 1 2 3 0 1 2 3 0 1 2 3 0 1 2 3 0 1 2 3 0\n",
      " 1 2 3]\n",
      "[0 1 2 3 0 1 2 3 0 1 2 3 0 1 2 3 0 1 2 3 0 1 2 3 0 1 2 3 0 1 2 3 0 1 2 3 0\n",
      " 1 2 3]\n",
      "[[10  0  0  0]\n",
      " [ 0 10  0  0]\n",
      " [ 0  0 10  0]\n",
      " [ 0  0  0 10]]\n"
     ]
    },
    {
     "data": {
      "image/png": "[encoded data removed]",
      "text/plain": [
       "<Figure size 480x480 with 1 Axes>"
      ]
     },
     "metadata": {},
     "output_type": "display_data"
    },
    {
     "name": "stdout",
     "output_type": "stream",
     "text": [
      "\n",
      "Classificação\n",
      "              precision    recall  f1-score   support\n",
      "\n",
      "           0       1.00      1.00      1.00        10\n",
      "           1       1.00      1.00      1.00        10\n",
      "           2       1.00      1.00      1.00        10\n",
      "           3       1.00      1.00      1.00        10\n",
      "\n",
      "    accuracy                           1.00        40\n",
      "   macro avg       1.00      1.00      1.00        40\n",
      "weighted avg       1.00      1.00      1.00        40\n",
      "\n"
     ]
    }
   ],
   "source": [
    "print(\"Classifição dos dados testados\\n\")\n",
    "report(X_test, y_test)\n"
   ]
  }
 ],
 "metadata": {
  "accelerator": "GPU",
  "colab": {
   "name": "sound-regnize-Keras.ipynb",
   "provenance": []
  },
  "kernelspec": {
   "display_name": "Python 3",
   "language": "python",
   "name": "python3"
  },
  "language_info": {
   "codemirror_mode": {
    "name": "ipython",
    "version": 3
   },
   "file_extension": ".py",
   "mimetype": "text/x-python",
   "name": "python",
   "nbconvert_exporter": "python",
   "pygments_lexer": "ipython3",
   "version": "3.9.6"
  },
  "vscode": {
   "interpreter": {
    "hash": "9e3bfd5707cea17bcbe380e30b983be31a9c4e73ed42697506103186bbe325e5"
   }
  }
 },
 "nbformat": 4,
 "nbformat_minor": 1
}
